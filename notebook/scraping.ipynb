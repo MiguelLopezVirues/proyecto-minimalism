{
 "cells": [
  {
   "cell_type": "code",
   "execution_count": 5,
   "metadata": {},
   "outputs": [],
   "source": [
    "import pandas as pd\n",
    "import numpy as np\n",
    "from bs4 import BeautifulSoup\n",
    "import requests\n",
    "import re\n",
    "\n",
    "import sys\n",
    "sys.path.append(\"..\")\n",
    "\n",
    "import src.support.data_upload_support as dus\n"
   ]
  },
  {
   "cell_type": "code",
   "execution_count": 6,
   "metadata": {},
   "outputs": [],
   "source": [
    "enlaces_navegacion = [\"https://minimalismbrand.com/collections/hogar\",\n",
    "                      \"https://minimalismbrand.com/collections/mochilas\",\n",
    "                      \"https://minimalismbrand.com/collections/camisetas-algodon-organico-nino-a\",\n",
    "                      \"https://minimalismbrand.com/collections/ropa-minimalism-mujer\",\n",
    "                      \"https://minimalismbrand.com/collections/ropa-minimalism\"\n",
    "                      ]"
   ]
  },
  {
   "cell_type": "code",
   "execution_count": 7,
   "metadata": {},
   "outputs": [],
   "source": [
    "def sacar_productos_pagina(soup, diccionario_extract, diccionario):\n",
    "    try:\n",
    "        product_cards_list = soup.find(\"div\",{\"class\":\"product-list product-list--per-row-3 product-list--per-row-mob-2 product-list--per-row-mob-2 product-list--image-shape-shortest\"}).findChildren(\"div\",recursive=False)\n",
    "    except:\n",
    "        print()\n",
    "        return diccionario\n",
    "    for product_card in product_cards_list:\n",
    "        for campo, valor_func in diccionario_extract.items():\n",
    "            try:\n",
    "                diccionario[campo].append(valor_func(product_card))\n",
    "        \n",
    "            except:\n",
    "                diccionario[campo].append(np.nan)\n",
    "    return diccionario"
   ]
  },
  {
   "cell_type": "markdown",
   "metadata": {},
   "source": [
    "Diccionarios funciones extraccion"
   ]
  },
  {
   "cell_type": "code",
   "execution_count": 8,
   "metadata": {},
   "outputs": [],
   "source": [
    "diccionario_extract = {\n",
    "    \"nombre\": lambda card: re.sub(r\"\\s+\",\" \",card.find(\"h3\",{\"class\":\"product-block__title\"}).text.strip()),\n",
    "    \"precio\": lambda card: card.find(\"div\",{\"class\":\"product-price\"}).findChildren(\"span\",recursive=False)[0].text.strip(),\n",
    "    \"precio_original\": lambda card: card.find(\"div\",{\"class\":\"product-price\"}).findChildren(\"span\",recursive=False)[1].text.strip(),\n",
    "    \"url\": lambda card: \"https://minimalismbrand.com\"+ card.find(\"a\",{\"class\":\"product-link\"})[\"href\"]\n",
    "}\n"
   ]
  },
  {
   "cell_type": "code",
   "execution_count": 9,
   "metadata": {},
   "outputs": [
    {
     "name": "stdout",
     "output_type": "stream",
     "text": [
      "Enlace principal https://minimalismbrand.com/collections/hogar\n",
      "Enlace principal https://minimalismbrand.com/collections/mochilas\n",
      "Enlace principal https://minimalismbrand.com/collections/camisetas-algodon-organico-nino-a\n",
      "Enlace principal https://minimalismbrand.com/collections/ropa-minimalism-mujer\n",
      "\n",
      "Enlace principal https://minimalismbrand.com/collections/ropa-minimalism\n",
      "\n"
     ]
    },
    {
     "data": {
      "text/plain": [
       "(258, 4)"
      ]
     },
     "execution_count": 9,
     "metadata": {},
     "output_type": "execute_result"
    }
   ],
   "source": [
    "diccionario = {\n",
    "        \"nombre\": [],\n",
    "        \"precio\": [],\n",
    "        \"precio_original\": [],\n",
    "        \"url\": []\n",
    "}\n",
    "for enlace in enlaces_navegacion:\n",
    "    print(\"Enlace principal\", enlace)\n",
    "\n",
    "    # \n",
    "    response = requests.get(enlace)\n",
    "    \n",
    "    soup = BeautifulSoup(response.text, 'html.parser')\n",
    "\n",
    "    # enlaces en subcategoría\n",
    "    enlace_subcategoria = soup.find(\"a\",{\"class\":\"image-overlay__image-link\"})\n",
    "\n",
    "    # SI ES PAGINA SUBCATEGORIAS\n",
    "    if enlace_subcategoria:\n",
    "\n",
    "        # ENCONTRAR ENLACES SUBCATEGORIAS, ENTRAR EN CADA PAGINA PRODUCTOS\n",
    "        lista_enlace_pag_productos = [\"https://minimalismbrand.com\"+elemento[\"href\"] for elemento in soup.find_all(\"a\",{\"class\":\"image-overlay__image-link\"})]\n",
    "\n",
    "        try:\n",
    "            lista_nombres_productos = [elemento.find(\"span\").text.strip() for elemento in soup.find_all(\"a\",{\"class\":\"image-overlay__image-link\"}) if elemento and elemento.find(\"span\")]\n",
    "        except:\n",
    "            # print(\"except\")\n",
    "            lista_nombres_productos = [elemento.find(\"span\") for elemento in soup.find_all(\"a\",{\"class\":\"image-overlay__image-link\"}) if elemento]\n",
    "\n",
    "            \n",
    "        # print(lista_nombres_productos)\n",
    "\n",
    "        for enlace_pag_producto in lista_enlace_pag_productos: \n",
    "            # ENCONTRAR EN CADA URL PRODUCTO\n",
    "            # print(\"Enlace_pag_producto\", enlace_pag_producto)\n",
    "            response = requests.get(enlace_pag_producto)\n",
    "            subsoup = BeautifulSoup(response.text, 'html.parser')\n",
    "            \n",
    "            diccionario = sacar_productos_pagina(subsoup,diccionario_extract, diccionario)\n",
    "\n",
    "    # SI ES PAGINA ENLACES A PRODUCTOS \n",
    "    else:\n",
    "        diccionario = sacar_productos_pagina(soup,diccionario_extract, diccionario)\n",
    "\n",
    "precios_minimalism = pd.DataFrame(diccionario)\n",
    "precios_minimalism[\"precio\"] = np.where(precios_minimalism[\"precio\"]==\"De\", precios_minimalism[\"precio_original\"], precios_minimalism[\"precio\"])\n",
    "precios_minimalism[[\"precio\",\"precio_original\"]] = precios_minimalism[[\"precio\",\"precio_original\"]].fillna(\"-\")\n",
    "precios_minimalism[[\"precio\",\"precio_original\"]] = precios_minimalism[[\"precio\",\"precio_original\"]].map(lambda x: x.replace(\"€\",\"\"))\n",
    "precios_minimalism.shape"
   ]
  },
  {
   "cell_type": "code",
   "execution_count": 10,
   "metadata": {},
   "outputs": [
    {
     "name": "stdout",
     "output_type": "stream",
     "text": [
      "<class 'pandas.core.frame.DataFrame'>\n",
      "RangeIndex: 258 entries, 0 to 257\n",
      "Data columns (total 5 columns):\n",
      " #   Column           Non-Null Count  Dtype \n",
      "---  ------           --------------  ----- \n",
      " 0   nombre           258 non-null    object\n",
      " 1   precio           258 non-null    object\n",
      " 2   precio_original  258 non-null    object\n",
      " 3   url              258 non-null    object\n",
      " 4   url2             258 non-null    object\n",
      "dtypes: object(5)\n",
      "memory usage: 10.2+ KB\n"
     ]
    }
   ],
   "source": [
    "precios_minimalism[\"url2\"] = precios_minimalism[\"url\"].str.split(\"?\",expand=True)[0]\n",
    "precios_minimalism.info()"
   ]
  },
  {
   "cell_type": "code",
   "execution_count": 11,
   "metadata": {},
   "outputs": [
    {
     "data": {
      "text/plain": [
       "(80, 5)"
      ]
     },
     "execution_count": 11,
     "metadata": {},
     "output_type": "execute_result"
    }
   ],
   "source": [
    "precios_minimalism.drop_duplicates(subset=\"url2\",inplace=True)\n",
    "precios_minimalism.shape"
   ]
  },
  {
   "cell_type": "code",
   "execution_count": 12,
   "metadata": {},
   "outputs": [
    {
     "data": {
      "text/html": [
       "<div>\n",
       "<style scoped>\n",
       "    .dataframe tbody tr th:only-of-type {\n",
       "        vertical-align: middle;\n",
       "    }\n",
       "\n",
       "    .dataframe tbody tr th {\n",
       "        vertical-align: top;\n",
       "    }\n",
       "\n",
       "    .dataframe thead th {\n",
       "        text-align: right;\n",
       "    }\n",
       "</style>\n",
       "<table border=\"1\" class=\"dataframe\">\n",
       "  <thead>\n",
       "    <tr style=\"text-align: right;\">\n",
       "      <th></th>\n",
       "      <th>nombre</th>\n",
       "      <th>precio</th>\n",
       "      <th>precio_original</th>\n",
       "      <th>url</th>\n",
       "      <th>url2</th>\n",
       "    </tr>\n",
       "  </thead>\n",
       "  <tbody>\n",
       "    <tr>\n",
       "      <th>0</th>\n",
       "      <td>Juego de sábanas · Algodón orgánico - 105x200</td>\n",
       "      <td>70.00</td>\n",
       "      <td>-</td>\n",
       "      <td>https://minimalismbrand.com/products/juego-de-...</td>\n",
       "      <td>https://minimalismbrand.com/products/juego-de-...</td>\n",
       "    </tr>\n",
       "    <tr>\n",
       "      <th>4</th>\n",
       "      <td>Toalla lavabo · Algodón orgánico - Blanco</td>\n",
       "      <td>9.00</td>\n",
       "      <td>-</td>\n",
       "      <td>https://minimalismbrand.com/products/toalla-la...</td>\n",
       "      <td>https://minimalismbrand.com/products/toalla-la...</td>\n",
       "    </tr>\n",
       "    <tr>\n",
       "      <th>6</th>\n",
       "      <td>Toalla de ducha · Algodón orgánico - Blanco</td>\n",
       "      <td>17.00</td>\n",
       "      <td>-</td>\n",
       "      <td>https://minimalismbrand.com/products/toalla-du...</td>\n",
       "      <td>https://minimalismbrand.com/products/toalla-du...</td>\n",
       "    </tr>\n",
       "    <tr>\n",
       "      <th>8</th>\n",
       "      <td>Toallas baño pack mediano · Algodón orgánico</td>\n",
       "      <td>24.00</td>\n",
       "      <td>26.00</td>\n",
       "      <td>https://minimalismbrand.com/products/toallas-b...</td>\n",
       "      <td>https://minimalismbrand.com/products/toallas-b...</td>\n",
       "    </tr>\n",
       "    <tr>\n",
       "      <th>9</th>\n",
       "      <td>Gel sólido uso diario x3</td>\n",
       "      <td>20.00</td>\n",
       "      <td>22.50</td>\n",
       "      <td>https://minimalismbrand.com/products/gel-solid...</td>\n",
       "      <td>https://minimalismbrand.com/products/gel-solid...</td>\n",
       "    </tr>\n",
       "    <tr>\n",
       "      <th>...</th>\n",
       "      <td>...</td>\n",
       "      <td>...</td>\n",
       "      <td>...</td>\n",
       "      <td>...</td>\n",
       "      <td>...</td>\n",
       "    </tr>\n",
       "    <tr>\n",
       "      <th>180</th>\n",
       "      <td>Calzoncillos Slips Orgánicos X3</td>\n",
       "      <td>32.00</td>\n",
       "      <td>36.00</td>\n",
       "      <td>https://minimalismbrand.com/products/calzoncil...</td>\n",
       "      <td>https://minimalismbrand.com/products/calzoncil...</td>\n",
       "    </tr>\n",
       "    <tr>\n",
       "      <th>181</th>\n",
       "      <td>Calzoncillos Slips Orgánicos X5</td>\n",
       "      <td>50.00</td>\n",
       "      <td>60.00</td>\n",
       "      <td>https://minimalismbrand.com/products/calzoncil...</td>\n",
       "      <td>https://minimalismbrand.com/products/calzoncil...</td>\n",
       "    </tr>\n",
       "    <tr>\n",
       "      <th>182</th>\n",
       "      <td>Calzoncillos Slips Orgánicos X7</td>\n",
       "      <td>68.00</td>\n",
       "      <td>84.00</td>\n",
       "      <td>https://minimalismbrand.com/products/calzoncil...</td>\n",
       "      <td>https://minimalismbrand.com/products/calzoncil...</td>\n",
       "    </tr>\n",
       "    <tr>\n",
       "      <th>210</th>\n",
       "      <td>Pantalón orgánico Slim Hombre</td>\n",
       "      <td>70.00</td>\n",
       "      <td>-</td>\n",
       "      <td>https://minimalismbrand.com/products/pantalon-...</td>\n",
       "      <td>https://minimalismbrand.com/products/pantalon-...</td>\n",
       "    </tr>\n",
       "    <tr>\n",
       "      <th>211</th>\n",
       "      <td>Pantalón vaquero Slim Hombre</td>\n",
       "      <td>70.00</td>\n",
       "      <td>-</td>\n",
       "      <td>https://minimalismbrand.com/products/vaquero-s...</td>\n",
       "      <td>https://minimalismbrand.com/products/vaquero-s...</td>\n",
       "    </tr>\n",
       "  </tbody>\n",
       "</table>\n",
       "<p>80 rows × 5 columns</p>\n",
       "</div>"
      ],
      "text/plain": [
       "                                            nombre precio precio_original  \\\n",
       "0    Juego de sábanas · Algodón orgánico - 105x200  70.00               -   \n",
       "4        Toalla lavabo · Algodón orgánico - Blanco   9.00               -   \n",
       "6      Toalla de ducha · Algodón orgánico - Blanco  17.00               -   \n",
       "8     Toallas baño pack mediano · Algodón orgánico  24.00           26.00   \n",
       "9                         Gel sólido uso diario x3  20.00           22.50   \n",
       "..                                             ...    ...             ...   \n",
       "180                Calzoncillos Slips Orgánicos X3  32.00           36.00   \n",
       "181                Calzoncillos Slips Orgánicos X5  50.00           60.00   \n",
       "182                Calzoncillos Slips Orgánicos X7  68.00           84.00   \n",
       "210                  Pantalón orgánico Slim Hombre  70.00               -   \n",
       "211                   Pantalón vaquero Slim Hombre  70.00               -   \n",
       "\n",
       "                                                   url  \\\n",
       "0    https://minimalismbrand.com/products/juego-de-...   \n",
       "4    https://minimalismbrand.com/products/toalla-la...   \n",
       "6    https://minimalismbrand.com/products/toalla-du...   \n",
       "8    https://minimalismbrand.com/products/toallas-b...   \n",
       "9    https://minimalismbrand.com/products/gel-solid...   \n",
       "..                                                 ...   \n",
       "180  https://minimalismbrand.com/products/calzoncil...   \n",
       "181  https://minimalismbrand.com/products/calzoncil...   \n",
       "182  https://minimalismbrand.com/products/calzoncil...   \n",
       "210  https://minimalismbrand.com/products/pantalon-...   \n",
       "211  https://minimalismbrand.com/products/vaquero-s...   \n",
       "\n",
       "                                                  url2  \n",
       "0    https://minimalismbrand.com/products/juego-de-...  \n",
       "4    https://minimalismbrand.com/products/toalla-la...  \n",
       "6    https://minimalismbrand.com/products/toalla-du...  \n",
       "8    https://minimalismbrand.com/products/toallas-b...  \n",
       "9    https://minimalismbrand.com/products/gel-solid...  \n",
       "..                                                 ...  \n",
       "180  https://minimalismbrand.com/products/calzoncil...  \n",
       "181  https://minimalismbrand.com/products/calzoncil...  \n",
       "182  https://minimalismbrand.com/products/calzoncil...  \n",
       "210  https://minimalismbrand.com/products/pantalon-...  \n",
       "211  https://minimalismbrand.com/products/vaquero-s...  \n",
       "\n",
       "[80 rows x 5 columns]"
      ]
     },
     "execution_count": 12,
     "metadata": {},
     "output_type": "execute_result"
    }
   ],
   "source": [
    "precios_minimalism"
   ]
  },
  {
   "cell_type": "code",
   "execution_count": 13,
   "metadata": {},
   "outputs": [],
   "source": [
    "precios_minimalism.to_csv(\"../datos/precios_minimalism.csv\")"
   ]
  },
  {
   "cell_type": "code",
   "execution_count": 14,
   "metadata": {},
   "outputs": [
    {
     "name": "stdout",
     "output_type": "stream",
     "text": [
      "Archivo subido con ID: 1itrNHGjAzNEg3NdJGhsTEDIGt-FplLlU\n"
     ]
    }
   ],
   "source": [
    "dus.upload_to_drive(\"../datos/precios_minimalism.csv\", '1vfttgGDHa3-eCMEN79QAue6aI3Gc1vvp')"
   ]
  },
  {
   "cell_type": "markdown",
   "metadata": {},
   "source": [
    "## Pruebas beautiful soup pagina producto"
   ]
  },
  {
   "cell_type": "code",
   "execution_count": 15,
   "metadata": {},
   "outputs": [],
   "source": [
    "url_pag_producto = \"https://minimalismbrand.com/products/camiseta-algodon-organico?variant=34948534108317\"\n",
    "response = requests.get(url_pag_producto)\n",
    "\n",
    "soup = BeautifulSoup(response.text, 'html.parser')"
   ]
  },
  {
   "cell_type": "markdown",
   "metadata": {},
   "source": [
    "Conseguir vertical"
   ]
  },
  {
   "cell_type": "code",
   "execution_count": 16,
   "metadata": {},
   "outputs": [
    {
     "data": {
      "text/plain": [
       "'Camisetas algodón orgánico'"
      ]
     },
     "execution_count": 16,
     "metadata": {},
     "output_type": "execute_result"
    }
   ],
   "source": [
    "\" \".join(soup.find(\"div\",{\"class\":\"container pango-breadcrumb\"}).text.strip().split()[2:])"
   ]
  },
  {
   "cell_type": "code",
   "execution_count": 44,
   "metadata": {},
   "outputs": [],
   "source": [
    "def extraer_info_producto(url):\n",
    "    response = requests.get(url)\n",
    "\n",
    "    soup = BeautifulSoup(response.text,\"html.parser\")\n",
    "\n",
    "    diccionario_campos = {\n",
    "        \"score\": soup.find(\"span\",{\"class\":\"stamped-badge-caption\"})[\"data-rating\"].replace(\",\",\".\") if soup.find(\"span\",{\"class\":\"stamped-badge-caption\"}) else None,\n",
    "        \"reviews\": soup.find(\"span\",{\"class\":\"stamped-badge-caption\"})[\"data-reviews\"] if soup.find(\"span\",{\"class\":\"stamped-badge-caption\"}) else None,\n",
    "        \"vertical\": \" \".join(soup.find(\"div\",{\"class\":\"container pango-breadcrumb\"}).text.strip().split()[2:]) if soup.find(\"div\",{\"class\":\"container pango-breadcrumb\"}) else None\n",
    "    }\n",
    "\n",
    "    return [*diccionario_campos.values()]\n",
    "\n"
   ]
  },
  {
   "cell_type": "code",
   "execution_count": 45,
   "metadata": {},
   "outputs": [
    {
     "data": {
      "text/plain": [
       "['4.7', '405', 'Camisetas algodón orgánico']"
      ]
     },
     "execution_count": 45,
     "metadata": {},
     "output_type": "execute_result"
    }
   ],
   "source": [
    "[*extraer_info_producto(\"https://minimalismbrand.com/products/camiseta-algodon-organico?variant=34948534108317\")]"
   ]
  },
  {
   "cell_type": "code",
   "execution_count": 56,
   "metadata": {},
   "outputs": [
    {
     "data": {
      "text/html": [
       "<div>\n",
       "<style scoped>\n",
       "    .dataframe tbody tr th:only-of-type {\n",
       "        vertical-align: middle;\n",
       "    }\n",
       "\n",
       "    .dataframe tbody tr th {\n",
       "        vertical-align: top;\n",
       "    }\n",
       "\n",
       "    .dataframe thead th {\n",
       "        text-align: right;\n",
       "    }\n",
       "</style>\n",
       "<table border=\"1\" class=\"dataframe\">\n",
       "  <thead>\n",
       "    <tr style=\"text-align: right;\">\n",
       "      <th></th>\n",
       "      <th>url</th>\n",
       "      <th>url2</th>\n",
       "    </tr>\n",
       "  </thead>\n",
       "  <tbody>\n",
       "    <tr>\n",
       "      <th>0</th>\n",
       "      <td>https://minimalismbrand.com/products/juego-de-...</td>\n",
       "      <td>https://minimalismbrand.com/products/juego-de-...</td>\n",
       "    </tr>\n",
       "    <tr>\n",
       "      <th>4</th>\n",
       "      <td>https://minimalismbrand.com/products/toalla-la...</td>\n",
       "      <td>https://minimalismbrand.com/products/toalla-la...</td>\n",
       "    </tr>\n",
       "  </tbody>\n",
       "</table>\n",
       "</div>"
      ],
      "text/plain": [
       "                                                 url  \\\n",
       "0  https://minimalismbrand.com/products/juego-de-...   \n",
       "4  https://minimalismbrand.com/products/toalla-la...   \n",
       "\n",
       "                                                url2  \n",
       "0  https://minimalismbrand.com/products/juego-de-...  \n",
       "4  https://minimalismbrand.com/products/toalla-la...  "
      ]
     },
     "execution_count": 56,
     "metadata": {},
     "output_type": "execute_result"
    }
   ],
   "source": [
    "df = pd.DataFrame(precios_minimalism[[\"url\",\"url2\"]][0:2])\n",
    "df"
   ]
  },
  {
   "cell_type": "code",
   "execution_count": 57,
   "metadata": {},
   "outputs": [],
   "source": [
    "df[[\"score\",\"reviews\",\"vertical\"]] = df[\"url2\"].apply(lambda x: extraer_info_producto(x)).to_list()"
   ]
  },
  {
   "cell_type": "code",
   "execution_count": 59,
   "metadata": {},
   "outputs": [
    {
     "data": {
      "text/html": [
       "<div>\n",
       "<style scoped>\n",
       "    .dataframe tbody tr th:only-of-type {\n",
       "        vertical-align: middle;\n",
       "    }\n",
       "\n",
       "    .dataframe tbody tr th {\n",
       "        vertical-align: top;\n",
       "    }\n",
       "\n",
       "    .dataframe thead th {\n",
       "        text-align: right;\n",
       "    }\n",
       "</style>\n",
       "<table border=\"1\" class=\"dataframe\">\n",
       "  <thead>\n",
       "    <tr style=\"text-align: right;\">\n",
       "      <th></th>\n",
       "      <th>url</th>\n",
       "      <th>url2</th>\n",
       "      <th>score</th>\n",
       "      <th>reviews</th>\n",
       "      <th>vertical</th>\n",
       "    </tr>\n",
       "  </thead>\n",
       "  <tbody>\n",
       "    <tr>\n",
       "      <th>0</th>\n",
       "      <td>https://minimalismbrand.com/products/juego-de-...</td>\n",
       "      <td>https://minimalismbrand.com/products/juego-de-...</td>\n",
       "      <td>3.7</td>\n",
       "      <td>3</td>\n",
       "      <td>Esenciales para tu hogar</td>\n",
       "    </tr>\n",
       "    <tr>\n",
       "      <th>4</th>\n",
       "      <td>https://minimalismbrand.com/products/toalla-la...</td>\n",
       "      <td>https://minimalismbrand.com/products/toalla-la...</td>\n",
       "      <td>4.2</td>\n",
       "      <td>9</td>\n",
       "      <td>Esenciales para tu baño</td>\n",
       "    </tr>\n",
       "  </tbody>\n",
       "</table>\n",
       "</div>"
      ],
      "text/plain": [
       "                                                 url  \\\n",
       "0  https://minimalismbrand.com/products/juego-de-...   \n",
       "4  https://minimalismbrand.com/products/toalla-la...   \n",
       "\n",
       "                                                url2 score reviews  \\\n",
       "0  https://minimalismbrand.com/products/juego-de-...   3.7       3   \n",
       "4  https://minimalismbrand.com/products/toalla-la...   4.2       9   \n",
       "\n",
       "                   vertical  \n",
       "0  Esenciales para tu hogar  \n",
       "4   Esenciales para tu baño  "
      ]
     },
     "execution_count": 59,
     "metadata": {},
     "output_type": "execute_result"
    }
   ],
   "source": [
    "df"
   ]
  },
  {
   "cell_type": "markdown",
   "metadata": {},
   "source": [
    "Conseguir score"
   ]
  },
  {
   "cell_type": "code",
   "execution_count": null,
   "metadata": {},
   "outputs": [],
   "source": [
    "score = soup.find(\"span\",{\"class\":\"stamped-badge-caption\"})[\"data-rating\"]\n"
   ]
  },
  {
   "cell_type": "markdown",
   "metadata": {},
   "source": [
    "Conseguir reviews"
   ]
  },
  {
   "cell_type": "code",
   "execution_count": null,
   "metadata": {},
   "outputs": [],
   "source": [
    "n_reviews = soup.find(\"span\",{\"class\":\"stamped-badge-caption\"})[\"data-reviews\"]"
   ]
  },
  {
   "cell_type": "code",
   "execution_count": null,
   "metadata": {},
   "outputs": [],
   "source": []
  }
 ],
 "metadata": {
  "kernelspec": {
   "display_name": "Proyecto_Marketing-ja-LJ7Zu",
   "language": "python",
   "name": "python3"
  },
  "language_info": {
   "codemirror_mode": {
    "name": "ipython",
    "version": 3
   },
   "file_extension": ".py",
   "mimetype": "text/x-python",
   "name": "python",
   "nbconvert_exporter": "python",
   "pygments_lexer": "ipython3",
   "version": "3.11.4"
  }
 },
 "nbformat": 4,
 "nbformat_minor": 2
}
