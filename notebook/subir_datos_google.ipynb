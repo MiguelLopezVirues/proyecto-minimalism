{
 "cells": [
  {
   "cell_type": "code",
   "execution_count": 14,
   "metadata": {},
   "outputs": [],
   "source": [
    "from google.oauth2 import service_account\n",
    "from googleapiclient.discovery import build\n",
    "from googleapiclient.http import MediaFileUpload\n",
    "\n",
    "\n",
    "# Ruta al archivo de credenciales\n",
    "creds = service_account.Credentials.from_service_account_file('../credentials2.json')\n",
    "drive_service = build('drive', 'v3', credentials=creds)"
   ]
  },
  {
   "cell_type": "code",
   "execution_count": 15,
   "metadata": {},
   "outputs": [
    {
     "name": "stdout",
     "output_type": "stream",
     "text": [
      "Archivo subido con ID: 1PgW7XpcjMmJeU0lr9uOD_GJPaaQaDoxa\n"
     ]
    }
   ],
   "source": [
    "from googleapiclient.http import MediaFileUpload\n",
    "def upload_to_drive(file_path, folder_id):\n",
    "    file_metadata = {\n",
    "        'name': file_path.split('/')[-1],\n",
    "        'parents': [folder_id]\n",
    "    }\n",
    "    media = MediaFileUpload(file_path, mimetype='text/csv')\n",
    "    uploaded_file = drive_service.files().create(body=file_metadata, media_body=media, fields='id').execute()\n",
    "    print(f\"Archivo subido con ID: {uploaded_file.get('id')}\")\n",
    "\n",
    "# Ruta del archivo y ID de la carpeta de Drive\n",
    "upload_to_drive(\"../datos/csv_prueba.csv\", '1vfttgGDHa3-eCMEN79QAue6aI3Gc1vvp')"
   ]
  },
  {
   "cell_type": "code",
   "execution_count": 7,
   "metadata": {},
   "outputs": [],
   "source": [
    "import pandas as pd\n",
    "import os"
   ]
  },
  {
   "cell_type": "code",
   "execution_count": 8,
   "metadata": {},
   "outputs": [],
   "source": [
    "os.makedirs(\"../datos\",exist_ok=True)"
   ]
  },
  {
   "cell_type": "code",
   "execution_count": 9,
   "metadata": {},
   "outputs": [],
   "source": [
    "csv_prueba = pd.DataFrame([0,10,20,33,0])\n",
    "csv_prueba.to_csv(\"../datos/csv_prueba.csv\")"
   ]
  },
  {
   "cell_type": "code",
   "execution_count": 16,
   "metadata": {},
   "outputs": [
    {
     "ename": "ValueError",
     "evalue": "not enough values to unpack (expected 2, got 1)",
     "output_type": "error",
     "traceback": [
      "\u001b[1;31m---------------------------------------------------------------------------\u001b[0m",
      "\u001b[1;31mValueError\u001b[0m                                Traceback (most recent call last)",
      "Cell \u001b[1;32mIn[16], line 12\u001b[0m\n\u001b[0;32m     10\u001b[0m     line \u001b[38;5;241m=\u001b[39m line\u001b[38;5;241m.\u001b[39mstrip()\n\u001b[0;32m     11\u001b[0m     \u001b[38;5;28;01mif\u001b[39;00m line \u001b[38;5;129;01mand\u001b[39;00m \u001b[38;5;129;01mnot\u001b[39;00m line\u001b[38;5;241m.\u001b[39mstartswith(\u001b[38;5;124m'\u001b[39m\u001b[38;5;124m#\u001b[39m\u001b[38;5;124m'\u001b[39m):\n\u001b[1;32m---> 12\u001b[0m         package, version \u001b[38;5;241m=\u001b[39m line\u001b[38;5;241m.\u001b[39msplit(\u001b[38;5;124m'\u001b[39m\u001b[38;5;124m==\u001b[39m\u001b[38;5;124m'\u001b[39m)\n\u001b[0;32m     13\u001b[0m         requirements[package] \u001b[38;5;241m=\u001b[39m version\n\u001b[0;32m     15\u001b[0m \u001b[38;5;66;03m# Write the dictionary to a YAML file\u001b[39;00m\n",
      "\u001b[1;31mValueError\u001b[0m: not enough values to unpack (expected 2, got 1)"
     ]
    }
   ],
   "source": [
    "import yaml\n",
    "\n",
    "# Read requirements.txt file\n",
    "with open('../requirements.txt', 'r') as f:\n",
    "    lines = f.readlines()\n",
    "\n",
    "# Convert to a dictionary format\n",
    "requirements = {}\n",
    "for line in lines:\n",
    "    line = line.strip()\n",
    "    if line and not line.startswith('#'):\n",
    "        package, version = line.split('==')\n",
    "        requirements[package] = version\n",
    "\n",
    "# Write the dictionary to a YAML file\n",
    "with open('../requirements.yaml', 'w') as f:\n",
    "    yaml.dump({'dependencies': requirements}, f)\n",
    "\n",
    "print(\"Converted requirements.txt to requirements.yaml successfully!\")\n"
   ]
  },
  {
   "cell_type": "code",
   "execution_count": null,
   "metadata": {},
   "outputs": [],
   "source": []
  }
 ],
 "metadata": {
  "kernelspec": {
   "display_name": "Proyecto_Marketing-ja-LJ7Zu",
   "language": "python",
   "name": "python3"
  },
  "language_info": {
   "codemirror_mode": {
    "name": "ipython",
    "version": 3
   },
   "file_extension": ".py",
   "mimetype": "text/x-python",
   "name": "python",
   "nbconvert_exporter": "python",
   "pygments_lexer": "ipython3",
   "version": "3.11.4"
  }
 },
 "nbformat": 4,
 "nbformat_minor": 2
}
