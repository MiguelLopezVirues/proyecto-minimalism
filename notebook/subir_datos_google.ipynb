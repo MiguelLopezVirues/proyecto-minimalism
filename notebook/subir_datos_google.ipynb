{
 "cells": [
  {
   "cell_type": "code",
   "execution_count": 17,
   "metadata": {},
   "outputs": [],
   "source": [
    "from google.oauth2 import service_account\n",
    "from googleapiclient.discovery import build\n",
    "from googleapiclient.http import MediaFileUpload\n",
    "\n",
    "\n",
    "# Ruta al archivo de credenciales\n",
    "creds = service_account.Credentials.from_service_account_file('../credentials2.json')\n",
    "drive_service = build('drive', 'v3', credentials=creds)"
   ]
  },
  {
   "cell_type": "code",
   "execution_count": 18,
   "metadata": {},
   "outputs": [
    {
     "name": "stdout",
     "output_type": "stream",
     "text": [
      "Archivo subido con ID: 1UR1LD-L2XGYA7VRs60C5JKxTK1ZEE5Ej\n"
     ]
    }
   ],
   "source": [
    "from googleapiclient.http import MediaFileUpload\n",
    "def upload_to_drive(file_path, folder_id):\n",
    "    file_metadata = {\n",
    "        'name': file_path.split('/')[-1],\n",
    "        'parents': [folder_id]\n",
    "    }\n",
    "    media = MediaFileUpload(file_path, mimetype='text/csv')\n",
    "    uploaded_file = drive_service.files().create(body=file_metadata, media_body=media, fields='id').execute()\n",
    "    print(f\"Archivo subido con ID: {uploaded_file.get('id')}\")\n",
    "\n",
    "# Ruta del archivo y ID de la carpeta de Drive\n",
    "upload_to_drive(\"../datos/csv_prueba.csv\", '1vfttgGDHa3-eCMEN79QAue6aI3Gc1vvp')"
   ]
  },
  {
   "cell_type": "code",
   "execution_count": 8,
   "metadata": {},
   "outputs": [],
   "source": [
    "os.makedirs(\"../datos\",exist_ok=True)"
   ]
  },
  {
   "cell_type": "code",
   "execution_count": 9,
   "metadata": {},
   "outputs": [],
   "source": [
    "csv_prueba = pd.DataFrame([0,10,20,33,0])\n",
    "csv_prueba.to_csv(\"../datos/csv_prueba.csv\")"
   ]
  },
  {
   "cell_type": "code",
   "execution_count": null,
   "metadata": {},
   "outputs": [],
   "source": []
  }
 ],
 "metadata": {
  "kernelspec": {
   "display_name": "Proyecto_Marketing-ja-LJ7Zu",
   "language": "python",
   "name": "python3"
  },
  "language_info": {
   "codemirror_mode": {
    "name": "ipython",
    "version": 3
   },
   "file_extension": ".py",
   "mimetype": "text/x-python",
   "name": "python",
   "nbconvert_exporter": "python",
   "pygments_lexer": "ipython3",
   "version": "3.11.4"
  }
 },
 "nbformat": 4,
 "nbformat_minor": 2
}
